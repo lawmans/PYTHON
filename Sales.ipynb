{
 "cells": [
  {
   "cell_type": "code",
   "execution_count": 1,
   "metadata": {},
   "outputs": [],
   "source": [
    "import pandas as pd\n",
    "import matplotlib.pyplot as plt\n",
    "import numpy as np\n",
    "import seaborn as sns"
   ]
  },
  {
   "cell_type": "code",
   "execution_count": 3,
   "metadata": {},
   "outputs": [
    {
     "data": {
      "text/html": [
       "<div>\n",
       "<style scoped>\n",
       "    .dataframe tbody tr th:only-of-type {\n",
       "        vertical-align: middle;\n",
       "    }\n",
       "\n",
       "    .dataframe tbody tr th {\n",
       "        vertical-align: top;\n",
       "    }\n",
       "\n",
       "    .dataframe thead th {\n",
       "        text-align: right;\n",
       "    }\n",
       "</style>\n",
       "<table border=\"1\" class=\"dataframe\">\n",
       "  <thead>\n",
       "    <tr style=\"text-align: right;\">\n",
       "      <th></th>\n",
       "      <th>Order Line</th>\n",
       "      <th>Order ID</th>\n",
       "      <th>Order Date</th>\n",
       "      <th>Ship Date</th>\n",
       "      <th>Ship Mode</th>\n",
       "      <th>Customer ID</th>\n",
       "      <th>Product ID</th>\n",
       "      <th>Sales</th>\n",
       "      <th>Quantity</th>\n",
       "      <th>Discount</th>\n",
       "      <th>Profit</th>\n",
       "    </tr>\n",
       "  </thead>\n",
       "  <tbody>\n",
       "    <tr>\n",
       "      <th>0</th>\n",
       "      <td>1</td>\n",
       "      <td>CA-2016-152156</td>\n",
       "      <td>2016-11-08</td>\n",
       "      <td>2016-11-11</td>\n",
       "      <td>Second Class</td>\n",
       "      <td>CG-12520</td>\n",
       "      <td>FUR-BO-10001798</td>\n",
       "      <td>261.9600</td>\n",
       "      <td>2</td>\n",
       "      <td>0.00</td>\n",
       "      <td>41.9136</td>\n",
       "    </tr>\n",
       "    <tr>\n",
       "      <th>1</th>\n",
       "      <td>2</td>\n",
       "      <td>CA-2016-152156</td>\n",
       "      <td>2016-11-08</td>\n",
       "      <td>2016-11-11</td>\n",
       "      <td>Second Class</td>\n",
       "      <td>CG-12520</td>\n",
       "      <td>FUR-CH-10000454</td>\n",
       "      <td>731.9400</td>\n",
       "      <td>3</td>\n",
       "      <td>0.00</td>\n",
       "      <td>219.5820</td>\n",
       "    </tr>\n",
       "    <tr>\n",
       "      <th>2</th>\n",
       "      <td>3</td>\n",
       "      <td>CA-2016-138688</td>\n",
       "      <td>2016-06-12</td>\n",
       "      <td>2016-06-16</td>\n",
       "      <td>Second Class</td>\n",
       "      <td>DV-13045</td>\n",
       "      <td>OFF-LA-10000240</td>\n",
       "      <td>14.6200</td>\n",
       "      <td>2</td>\n",
       "      <td>0.00</td>\n",
       "      <td>6.8714</td>\n",
       "    </tr>\n",
       "    <tr>\n",
       "      <th>3</th>\n",
       "      <td>4</td>\n",
       "      <td>US-2015-108966</td>\n",
       "      <td>2015-10-11</td>\n",
       "      <td>2015-10-18</td>\n",
       "      <td>Standard Class</td>\n",
       "      <td>SO-20335</td>\n",
       "      <td>FUR-TA-10000577</td>\n",
       "      <td>957.5775</td>\n",
       "      <td>5</td>\n",
       "      <td>0.45</td>\n",
       "      <td>-383.0310</td>\n",
       "    </tr>\n",
       "    <tr>\n",
       "      <th>4</th>\n",
       "      <td>5</td>\n",
       "      <td>US-2015-108966</td>\n",
       "      <td>2015-10-11</td>\n",
       "      <td>2015-10-18</td>\n",
       "      <td>Standard Class</td>\n",
       "      <td>SO-20335</td>\n",
       "      <td>OFF-ST-10000760</td>\n",
       "      <td>22.3680</td>\n",
       "      <td>2</td>\n",
       "      <td>0.20</td>\n",
       "      <td>2.5164</td>\n",
       "    </tr>\n",
       "    <tr>\n",
       "      <th>...</th>\n",
       "      <td>...</td>\n",
       "      <td>...</td>\n",
       "      <td>...</td>\n",
       "      <td>...</td>\n",
       "      <td>...</td>\n",
       "      <td>...</td>\n",
       "      <td>...</td>\n",
       "      <td>...</td>\n",
       "      <td>...</td>\n",
       "      <td>...</td>\n",
       "      <td>...</td>\n",
       "    </tr>\n",
       "    <tr>\n",
       "      <th>9989</th>\n",
       "      <td>9990</td>\n",
       "      <td>CA-2014-110422</td>\n",
       "      <td>2014-01-21</td>\n",
       "      <td>2014-01-23</td>\n",
       "      <td>Second Class</td>\n",
       "      <td>TB-21400</td>\n",
       "      <td>FUR-FU-10001889</td>\n",
       "      <td>25.2480</td>\n",
       "      <td>3</td>\n",
       "      <td>0.20</td>\n",
       "      <td>4.1028</td>\n",
       "    </tr>\n",
       "    <tr>\n",
       "      <th>9990</th>\n",
       "      <td>9991</td>\n",
       "      <td>CA-2017-121258</td>\n",
       "      <td>2017-02-26</td>\n",
       "      <td>2017-03-03</td>\n",
       "      <td>Standard Class</td>\n",
       "      <td>DB-13060</td>\n",
       "      <td>FUR-FU-10000747</td>\n",
       "      <td>91.9600</td>\n",
       "      <td>2</td>\n",
       "      <td>0.00</td>\n",
       "      <td>15.6332</td>\n",
       "    </tr>\n",
       "    <tr>\n",
       "      <th>9991</th>\n",
       "      <td>9992</td>\n",
       "      <td>CA-2017-121258</td>\n",
       "      <td>2017-02-26</td>\n",
       "      <td>2017-03-03</td>\n",
       "      <td>Standard Class</td>\n",
       "      <td>DB-13060</td>\n",
       "      <td>TEC-PH-10003645</td>\n",
       "      <td>258.5760</td>\n",
       "      <td>2</td>\n",
       "      <td>0.20</td>\n",
       "      <td>19.3932</td>\n",
       "    </tr>\n",
       "    <tr>\n",
       "      <th>9992</th>\n",
       "      <td>9993</td>\n",
       "      <td>CA-2017-121258</td>\n",
       "      <td>2017-02-26</td>\n",
       "      <td>2017-03-03</td>\n",
       "      <td>Standard Class</td>\n",
       "      <td>DB-13060</td>\n",
       "      <td>OFF-PA-10004041</td>\n",
       "      <td>29.6000</td>\n",
       "      <td>4</td>\n",
       "      <td>0.00</td>\n",
       "      <td>13.3200</td>\n",
       "    </tr>\n",
       "    <tr>\n",
       "      <th>9993</th>\n",
       "      <td>9994</td>\n",
       "      <td>CA-2017-119914</td>\n",
       "      <td>2017-05-04</td>\n",
       "      <td>2017-05-09</td>\n",
       "      <td>Second Class</td>\n",
       "      <td>CC-12220</td>\n",
       "      <td>OFF-AP-10002684</td>\n",
       "      <td>243.1600</td>\n",
       "      <td>2</td>\n",
       "      <td>0.00</td>\n",
       "      <td>72.9480</td>\n",
       "    </tr>\n",
       "  </tbody>\n",
       "</table>\n",
       "<p>9994 rows × 11 columns</p>\n",
       "</div>"
      ],
      "text/plain": [
       "      Order Line        Order ID  Order Date   Ship Date       Ship Mode  \\\n",
       "0              1  CA-2016-152156  2016-11-08  2016-11-11    Second Class   \n",
       "1              2  CA-2016-152156  2016-11-08  2016-11-11    Second Class   \n",
       "2              3  CA-2016-138688  2016-06-12  2016-06-16    Second Class   \n",
       "3              4  US-2015-108966  2015-10-11  2015-10-18  Standard Class   \n",
       "4              5  US-2015-108966  2015-10-11  2015-10-18  Standard Class   \n",
       "...          ...             ...         ...         ...             ...   \n",
       "9989        9990  CA-2014-110422  2014-01-21  2014-01-23    Second Class   \n",
       "9990        9991  CA-2017-121258  2017-02-26  2017-03-03  Standard Class   \n",
       "9991        9992  CA-2017-121258  2017-02-26  2017-03-03  Standard Class   \n",
       "9992        9993  CA-2017-121258  2017-02-26  2017-03-03  Standard Class   \n",
       "9993        9994  CA-2017-119914  2017-05-04  2017-05-09    Second Class   \n",
       "\n",
       "     Customer ID       Product ID     Sales  Quantity  Discount    Profit  \n",
       "0       CG-12520  FUR-BO-10001798  261.9600         2      0.00   41.9136  \n",
       "1       CG-12520  FUR-CH-10000454  731.9400         3      0.00  219.5820  \n",
       "2       DV-13045  OFF-LA-10000240   14.6200         2      0.00    6.8714  \n",
       "3       SO-20335  FUR-TA-10000577  957.5775         5      0.45 -383.0310  \n",
       "4       SO-20335  OFF-ST-10000760   22.3680         2      0.20    2.5164  \n",
       "...          ...              ...       ...       ...       ...       ...  \n",
       "9989    TB-21400  FUR-FU-10001889   25.2480         3      0.20    4.1028  \n",
       "9990    DB-13060  FUR-FU-10000747   91.9600         2      0.00   15.6332  \n",
       "9991    DB-13060  TEC-PH-10003645  258.5760         2      0.20   19.3932  \n",
       "9992    DB-13060  OFF-PA-10004041   29.6000         4      0.00   13.3200  \n",
       "9993    CC-12220  OFF-AP-10002684  243.1600         2      0.00   72.9480  \n",
       "\n",
       "[9994 rows x 11 columns]"
      ]
     },
     "execution_count": 3,
     "metadata": {},
     "output_type": "execute_result"
    }
   ],
   "source": [
    "sdf = pd.read_csv('C:/Users/LAWMANS/Desktop/Data/Sales.csv')\n",
    "sdf"
   ]
  },
  {
   "cell_type": "code",
   "execution_count": 4,
   "metadata": {},
   "outputs": [
    {
     "data": {
      "text/plain": [
       "<bound method DataFrame.info of       Order Line        Order ID  Order Date   Ship Date       Ship Mode  \\\n",
       "0              1  CA-2016-152156  2016-11-08  2016-11-11    Second Class   \n",
       "1              2  CA-2016-152156  2016-11-08  2016-11-11    Second Class   \n",
       "2              3  CA-2016-138688  2016-06-12  2016-06-16    Second Class   \n",
       "3              4  US-2015-108966  2015-10-11  2015-10-18  Standard Class   \n",
       "4              5  US-2015-108966  2015-10-11  2015-10-18  Standard Class   \n",
       "...          ...             ...         ...         ...             ...   \n",
       "9989        9990  CA-2014-110422  2014-01-21  2014-01-23    Second Class   \n",
       "9990        9991  CA-2017-121258  2017-02-26  2017-03-03  Standard Class   \n",
       "9991        9992  CA-2017-121258  2017-02-26  2017-03-03  Standard Class   \n",
       "9992        9993  CA-2017-121258  2017-02-26  2017-03-03  Standard Class   \n",
       "9993        9994  CA-2017-119914  2017-05-04  2017-05-09    Second Class   \n",
       "\n",
       "     Customer ID       Product ID     Sales  Quantity  Discount    Profit  \n",
       "0       CG-12520  FUR-BO-10001798  261.9600         2      0.00   41.9136  \n",
       "1       CG-12520  FUR-CH-10000454  731.9400         3      0.00  219.5820  \n",
       "2       DV-13045  OFF-LA-10000240   14.6200         2      0.00    6.8714  \n",
       "3       SO-20335  FUR-TA-10000577  957.5775         5      0.45 -383.0310  \n",
       "4       SO-20335  OFF-ST-10000760   22.3680         2      0.20    2.5164  \n",
       "...          ...              ...       ...       ...       ...       ...  \n",
       "9989    TB-21400  FUR-FU-10001889   25.2480         3      0.20    4.1028  \n",
       "9990    DB-13060  FUR-FU-10000747   91.9600         2      0.00   15.6332  \n",
       "9991    DB-13060  TEC-PH-10003645  258.5760         2      0.20   19.3932  \n",
       "9992    DB-13060  OFF-PA-10004041   29.6000         4      0.00   13.3200  \n",
       "9993    CC-12220  OFF-AP-10002684  243.1600         2      0.00   72.9480  \n",
       "\n",
       "[9994 rows x 11 columns]>"
      ]
     },
     "execution_count": 4,
     "metadata": {},
     "output_type": "execute_result"
    }
   ],
   "source": [
    "sdf.info"
   ]
  },
  {
   "cell_type": "code",
   "execution_count": 5,
   "metadata": {},
   "outputs": [
    {
     "data": {
      "text/plain": [
       "<bound method DataFrame.mean of          Sales  Quantity\n",
       "0     261.9600         2\n",
       "1     731.9400         3\n",
       "2      14.6200         2\n",
       "3     957.5775         5\n",
       "4      22.3680         2\n",
       "...        ...       ...\n",
       "9989   25.2480         3\n",
       "9990   91.9600         2\n",
       "9991  258.5760         2\n",
       "9992   29.6000         4\n",
       "9993  243.1600         2\n",
       "\n",
       "[9994 rows x 2 columns]>"
      ]
     },
     "execution_count": 5,
     "metadata": {},
     "output_type": "execute_result"
    }
   ],
   "source": [
    "cost = sdf[['Sales','Quantity']]\n",
    "cost.mean"
   ]
  },
  {
   "cell_type": "code",
   "execution_count": 6,
   "metadata": {},
   "outputs": [
    {
     "data": {
      "text/plain": [
       "<bound method NDFrame.describe of       Order Line        Order ID  Order Date   Ship Date       Ship Mode  \\\n",
       "0              1  CA-2016-152156  2016-11-08  2016-11-11    Second Class   \n",
       "1              2  CA-2016-152156  2016-11-08  2016-11-11    Second Class   \n",
       "2              3  CA-2016-138688  2016-06-12  2016-06-16    Second Class   \n",
       "3              4  US-2015-108966  2015-10-11  2015-10-18  Standard Class   \n",
       "4              5  US-2015-108966  2015-10-11  2015-10-18  Standard Class   \n",
       "...          ...             ...         ...         ...             ...   \n",
       "9989        9990  CA-2014-110422  2014-01-21  2014-01-23    Second Class   \n",
       "9990        9991  CA-2017-121258  2017-02-26  2017-03-03  Standard Class   \n",
       "9991        9992  CA-2017-121258  2017-02-26  2017-03-03  Standard Class   \n",
       "9992        9993  CA-2017-121258  2017-02-26  2017-03-03  Standard Class   \n",
       "9993        9994  CA-2017-119914  2017-05-04  2017-05-09    Second Class   \n",
       "\n",
       "     Customer ID       Product ID     Sales  Quantity  Discount    Profit  \n",
       "0       CG-12520  FUR-BO-10001798  261.9600         2      0.00   41.9136  \n",
       "1       CG-12520  FUR-CH-10000454  731.9400         3      0.00  219.5820  \n",
       "2       DV-13045  OFF-LA-10000240   14.6200         2      0.00    6.8714  \n",
       "3       SO-20335  FUR-TA-10000577  957.5775         5      0.45 -383.0310  \n",
       "4       SO-20335  OFF-ST-10000760   22.3680         2      0.20    2.5164  \n",
       "...          ...              ...       ...       ...       ...       ...  \n",
       "9989    TB-21400  FUR-FU-10001889   25.2480         3      0.20    4.1028  \n",
       "9990    DB-13060  FUR-FU-10000747   91.9600         2      0.00   15.6332  \n",
       "9991    DB-13060  TEC-PH-10003645  258.5760         2      0.20   19.3932  \n",
       "9992    DB-13060  OFF-PA-10004041   29.6000         4      0.00   13.3200  \n",
       "9993    CC-12220  OFF-AP-10002684  243.1600         2      0.00   72.9480  \n",
       "\n",
       "[9994 rows x 11 columns]>"
      ]
     },
     "execution_count": 6,
     "metadata": {},
     "output_type": "execute_result"
    }
   ],
   "source": [
    "sdf.describe"
   ]
  },
  {
   "cell_type": "code",
   "execution_count": 13,
   "metadata": {},
   "outputs": [
    {
     "data": {
      "text/plain": [
       "<matplotlib.axes._subplots.AxesSubplot at 0x21a29186fa0>"
      ]
     },
     "execution_count": 13,
     "metadata": {},
     "output_type": "execute_result"
    },
    {
     "data": {
      "image/png": "[encoded data removed]",
      "text/plain": [
       "<Figure size 432x288 with 1 Axes>"
      ]
     },
     "metadata": {
      "needs_background": "light"
     },
     "output_type": "display_data"
    }
   ],
   "source": [
    "cost.plot()"
   ]
  },
  {
   "cell_type": "code",
   "execution_count": null,
   "metadata": {},
   "outputs": [],
   "source": []
  },
  {
   "cell_type": "code",
   "execution_count": null,
   "metadata": {},
   "outputs": [],
   "source": []
  }
 ],
 "metadata": {
  "interpreter": {
   "hash": "cf1e2a4048e4a06ab314be6c95fc9af5b0828490d7a46c635951711f30350050"
  },
  "kernelspec": {
   "display_name": "Python 3.8.3 ('base')",
   "language": "python",
   "name": "python3"
  },
  "language_info": {
   "codemirror_mode": {
    "name": "ipython",
    "version": 3
   },
   "file_extension": ".py",
   "mimetype": "text/x-python",
   "name": "python",
   "nbconvert_exporter": "python",
   "pygments_lexer": "ipython3",
   "version": "3.8.3"
  },
  "orig_nbformat": 4
 },
 "nbformat": 4,
 "nbformat_minor": 2
}
